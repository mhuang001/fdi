{
 "cells": [
  {
   "cell_type": "code",
   "execution_count": 9,
   "metadata": {
    "collapsed": true
   },
   "outputs": [],
   "source": [
    "# import these first.\n",
    "import copy\n",
    "import getpass\n",
    "import os\n",
    "from datetime import datetime\n",
    "import logging\n",
    "import fdi.dataset.serializable\n",
    "from fdi.dataset.product import Product\n",
    "from fdi.dataset.metadata import Parameter, NumericParameter, MetaData\n",
    "from fdi.dataset.finetime import FineTime1, utcobj\n",
    "from fdi.dataset.dataset import ArrayDataset, TableDataset, Column\n",
    "from fdi.dataset.composite import Composite\n",
    "from fdi.pal.context import Context, MapContext\n",
    "from fdi.pal.productref import ProductRef\n",
    "from fdi.pal.query import MetaQuery, StorageQuery\n",
    "from fdi.pal.poolmanager import PoolManager, DEFAULT_MEM_POOL\n",
    "from fdi.pal.productstorage import ProductStorage\n",
    "from fdi.dataset.serializable import serializeClassID\n",
    "from fdi.dataset.deserialize import deserializeClassID"
   ]
  },
  {
   "cell_type": "code",
   "execution_count": 46,
   "metadata": {
    "collapsed": true,
    "scrolled": true
   },
   "outputs": [],
   "source": [
    "# Creation:\n",
    "x = Product(description=\"product example with several datasets\",\n",
    "            instrument=\"Crystal-Ball\", modelName=\"Mk II\")\n",
    "x.meta['description'].value  # == \"product example with several datasets\"\n",
    "# ways to add datasets\n",
    "i0 = 6\n",
    "i1 = [[1, 2, 3], [4, 5, i0], [7, 8, 9]]\n",
    "i2 = 'ev'                 # unit\n",
    "i3 = 'image1'     # description\n",
    "image = ArrayDataset(data=i1, unit=i2, description=i3)\n",
    "x[\"RawImage\"] = image\n",
    "x[\"RawImage\"].data  # == [[1, 2, 3], [4, 5, 6], [7, 8, 9]]\n",
    "# no unit or description. different syntax but same function as above\n",
    "x.set('QualityImage', ArrayDataset(\n",
    "    [[0.1, 0.5, 0.7], [4e3, 6e7, 8], [-2, 0, 3.1]], unit=i2))\n",
    "x[\"QualityImage\"].unit  # is None\n",
    "# add a tabledataset\n",
    "s1 = [('col1', [1, 4.4, 5.4E3], 'eV'),\n",
    "      ('col2', [[0, 43.2, 2E3],[0,4, 22E2]], 'cnt')]\n",
    "x[\"Spectrum\"] = TableDataset(data=s1)\n",
    "\n",
    "x.creator='Yuxin'\n",
    "\n",
    "# x1 = Product(description='in store')\n",
    "# add a tabledataset\n",
    "s1 = [('energy', [1, 4.4, 5.6], 'eV'), ('freq', [0, 43.2, 2E3], 'Hz')]\n",
    "x1[\"Spectrum\"] = TableDataset(data=s1)"
   ]
  },
  {
   "cell_type": "code",
   "execution_count": 42,
   "metadata": {},
   "outputs": [
    {
     "name": "stdout",
     "output_type": "stream",
     "text": [
      "2462\n",
      "{meta = \"MetaData{[modelName = StringParameter{ \"None\", \"Model name attached to this product\", dflt , vld null tcode=java.lang.String}, creator = StringParameter{ \"None\", \"Generator of this product\", dflt , vld null tcode=java.lang.String}, endDate = StringParameter{ \"None\", \"End date of this product\", dflt , vld null tcode=herschel.share.fltdyn.time.FineTime}, description = StringParameter{ \"None\", \"Name of this product\", dflt , vld null tcode=java.lang.String}, instrument = StringParameter{ \"None\", \"Instrument attached to this product\", dflt , vld null tcode=java.lang.String}, type = StringParameter{ \"None\", \"Product Type Identification\", dflt , vld null tcode=java.lang.String}, creationDate = StringParameter{ \"None\", \"Creation date of this product\", dflt , vld null tcode=herschel.share.fltdyn.time.FineTime}, formatVersion = StringParameter{ \"None\", \"Version of product format\", dflt , vld null tcode=java.lang.String}, startDate = StringParameter{ \"None\", \"Start date of this product\", dflt , vld null tcode=herschel.share.fltdyn.time.FineTime}, ], listeners = []}\", _sets = ['data'], history = {meta = \"MetaData{[], listeners = []}\", _sets = []}}\n"
     ]
    }
   ],
   "source": [
    "# data = serializeClassID(x)\n",
    "# print(type(data))\n",
    "data='{\"_sets\":{\"data\":{\"MyArrayDataset\":{\"typecode\":\"herschel_dataset.ia.dataset.ArrayDataset\",\"default\":\"null\",\"unit\":\"eV [1 eV = 1.602176462E-19 J]\",\"classID\":\"ArrayDataset\",\"data\":[0.0,100.0,200.0,300.0,400.0,500.0,600.0,700.0,800.0,900.0],\"meta\":{\"_sets\":{\"classID\":\"ODict\",\"data\":{\"a\":{\"valid\":\"null\",\"typecode\":\"java.lang.String\",\"classID\":\"StringParameter\"},\"usefor\":{\"valid\":\"null\",\"typecode\":\"java.lang.String\",\"classID\":\"StringParameter\"}}},\"classID\":\"MetaData\",\"listeners\":[]},\"description\":\"a description\"}}},\"classID\":\"Product\",\"listeners\":[],\"meta\":{\"_sets\":{\"classID\":\"ODict\",\"data\":{\"modelName\":{\"valid\":\"null\",\"typecode\":\"java.lang.String\",\"classID\":\"StringParameter\",\"description\":\"Model name attached to this product\"},\"creator\":{\"valid\":\"null\",\"typecode\":\"java.lang.String\",\"classID\":\"StringParameter\",\"description\":\"Generator of this product\"},\"endDate\":{\"valid\":\"null\",\"typecode\":\"herschel.share.fltdyn.time.FineTime\",\"classID\":\"StringParameter\",\"endDate\":{\"classID\":\"FineTime\",\"format\":\"2020-09-09T09:20:25.283000 TAI (1978334425283000)\",\"tai\":1978334425283000},\"description\":\"End date of this product\"},\"description\":{\"valid\":\"null\",\"typecode\":\"java.lang.String\",\"classID\":\"StringParameter\",\"description\":\"Name of this product\"},\"instrument\":{\"valid\":\"null\",\"typecode\":\"java.lang.String\",\"classID\":\"StringParameter\",\"description\":\"Instrument attached to this product\"},\"type\":{\"valid\":\"null\",\"typecode\":\"java.lang.String\",\"classID\":\"StringParameter\",\"description\":\"Product Type Identification\"},\"creationDate\":{\"valid\":\"null\",\"typecode\":\"herschel.share.fltdyn.time.FineTime\",\"classID\":\"StringParameter\",\"description\":\"Creation date of this product\",\"creationDate\":{\"classID\":\"FineTime\",\"format\":\"2020-09-09T09:20:25.179000 TAI (1978334425179000)\",\"tai\":1978334425179000}},\"formatVersion\":{\"valid\":\"null\",\"typecode\":\"java.lang.String\",\"classID\":\"StringParameter\",\"description\":\"Version of product format\"},\"startDate\":{\"valid\":\"null\",\"typecode\":\"herschel.share.fltdyn.time.FineTime\",\"classID\":\"StringParameter\",\"description\":\"Start date of this product\",\"startDate\":{\"classID\":\"FineTime\",\"format\":\"2020-09-09T09:20:25.179000 TAI (1978334425179000)\",\"tai\":1978334425179000}}}},\"classID\":\"MetaData\",\"listeners\":[]},\"history\":{\"_sets\":{\"classID\":\"ODict\",\"data\":{}},\"classID\":\"History\",\"PARAM_HISTORY\":\"\",\"meta\":{\"_sets\":{\"classID\":\"ODict\",\"data\":{}},\"classID\":\"MetaData\",\"listeners\":[]},\"HIST_SCRIPT\":\"\",\"TASK_HISTORY\":\"\",\"description\":\"UNKNOWN\"}}'\n",
    "x = deserializeClassID(data)\n",
    "print(x)"
   ]
  },
  {
   "cell_type": "code",
   "execution_count": 47,
   "metadata": {},
   "outputs": [
    {
     "name": "stdout",
     "output_type": "stream",
     "text": [
      "Seriablizable: cls-->\n",
      "<class 'fdi.dataset.serializable.SerializableEncoder'>\n",
      "{\"meta\": {\"_sets\": {\"data\": {\"description\": {\"description\": \"Description of this product\", \"value\": \"product example with several datasets\", \"default\": \"UNKOWN\", \"valid\": null, \"typecode\": \"B\", \"classID\": \"StringParameter\"}, \"type\": {\"description\": \"Product Type identification. Fully qualified Python class name or CARD.\", \"value\": \"Product\", \"default\": \"BaseProduct\", \"valid\": null, \"typecode\": \"B\", \"classID\": \"StringParameter\"}, \"creator\": {\"description\": \"Generator of this product. Example name of institute, organization, person, software, special algorithm etc.\", \"value\": \"Yuxin\", \"default\": \"UNKOWN\", \"valid\": null, \"typecode\": \"B\", \"classID\": \"StringParameter\"}, \"creationDate\": {\"description\": \"Creation date of this product\", \"value\": {\"tai\": 0, \"format\": \"%Y-%m-%dT%H:%M:%S.%f\", \"classID\": \"FineTime1\"}, \"default\": 0, \"valid\": null, \"typecode\": \"%Y-%m-%dT%H:%M:%S.%f\", \"classID\": \"DateParameter\"}, \"rootCause\": {\"description\": \"Reason of this run of pipeline.\", \"value\": \"UNKOWN\", \"default\": \"UNKOWN\", \"valid\": null, \"typecode\": \"B\", \"classID\": \"StringParameter\"}, \"version\": {\"description\": \"Version of product schema\", \"value\": \"0.6\", \"default\": \"0.5\", \"valid\": null, \"typecode\": \"B\", \"classID\": \"StringParameter\"}, \"startDate\": {\"description\": \"Nominal start time  of this product.\", \"value\": {\"tai\": 0, \"format\": \"%Y-%m-%dT%H:%M:%S.%f\", \"classID\": \"FineTime1\"}, \"default\": 0, \"valid\": null, \"typecode\": \"%Y-%m-%dT%H:%M:%S.%f\", \"classID\": \"DateParameter\"}, \"endDate\": {\"description\": \"Nominal end time  of this product.\", \"value\": {\"tai\": 0, \"format\": \"%Y-%m-%dT%H:%M:%S.%f\", \"classID\": \"FineTime1\"}, \"default\": 0, \"valid\": null, \"typecode\": \"%Y-%m-%dT%H:%M:%S.%f\", \"classID\": \"DateParameter\"}, \"instrument\": {\"description\": \"Instrument that generated data of this product\", \"value\": \"Crystal-Ball\", \"default\": \"UNKOWN\", \"valid\": null, \"typecode\": \"B\", \"classID\": \"StringParameter\"}, \"modelName\": {\"description\": \"Model name of the instrument of this product\", \"value\": \"Mk II\", \"default\": \"UNKOWN\", \"valid\": null, \"typecode\": \"B\", \"classID\": \"StringParameter\"}, \"mission\": {\"description\": \"Name of the mission.\", \"value\": \"_AGS\", \"default\": \"_AGS\", \"valid\": null, \"typecode\": \"B\", \"classID\": \"StringParameter\"}}, \"classID\": \"ODict\"}, \"listeners\": [], \"classID\": \"MetaData\"}, \"_sets\": {\"data\": {\"RawImage\": {\"description\": \"image1\", \"meta\": {\"_sets\": {\"data\": {}, \"classID\": \"ODict\"}, \"listeners\": [], \"classID\": \"MetaData\"}, \"data\": [[1, 2, 3], [4, 5, 6], [7, 8, 9]], \"type\": null, \"default\": null, \"typecode\": null, \"classID\": \"ArrayDataset\", \"unit\": \"ev\"}, \"QualityImage\": {\"description\": \"UNKNOWN\", \"meta\": {\"_sets\": {\"data\": {}, \"classID\": \"ODict\"}, \"listeners\": [], \"classID\": \"MetaData\"}, \"data\": [[0.1, 0.5, 0.7], [4000.0, 60000000.0, 8], [-2, 0, 3.1]], \"type\": null, \"default\": null, \"typecode\": null, \"classID\": \"ArrayDataset\", \"unit\": \"ev\"}, \"Spectrum\": {\"description\": \"UNKNOWN\", \"meta\": {\"_sets\": {\"data\": {}, \"classID\": \"ODict\"}, \"listeners\": [], \"classID\": \"MetaData\"}, \"data\": {\"data\": {\"col1\": {\"description\": \"UNKNOWN\", \"meta\": {\"_sets\": {\"data\": {}, \"classID\": \"ODict\"}, \"listeners\": [], \"classID\": \"MetaData\"}, \"data\": [1, 4.4, 5400.0], \"type\": null, \"default\": null, \"typecode\": null, \"classID\": \"Column\", \"unit\": \"eV\"}, \"col2\": {\"description\": \"UNKNOWN\", \"meta\": {\"_sets\": {\"data\": {}, \"classID\": \"ODict\"}, \"listeners\": [], \"classID\": \"MetaData\"}, \"data\": [[0, 43.2, 2000.0], [0, 4, 2200.0]], \"type\": null, \"default\": null, \"typecode\": null, \"classID\": \"Column\", \"unit\": \"cnt\"}}, \"classID\": \"ODict\"}, \"classID\": \"TableDataset\"}}, \"classID\": \"ODict\"}, \"history\": {\"description\": \"UNKNOWN\", \"HIST_SCRIPT\": \"\", \"PARAM_HISTORY\": \"\", \"TASK_HISTORY\": \"\", \"meta\": {\"_sets\": {\"data\": {}, \"classID\": \"ODict\"}, \"listeners\": [], \"classID\": \"MetaData\"}, \"_sets\": {\"data\": {}, \"classID\": \"ODict\"}, \"classID\": \"History\"}, \"listeners\": [], \"classID\": \"Product\"}\n"
     ]
    }
   ],
   "source": [
    "data = serializeClassID(x)\n",
    "print(data)\n",
    "# data='{\"_sets\":{\"data\":{\"MyArrayDataset\":{\"typecode\":\"herschel_dataset.ia.dataset.ArrayDataset\",\"default\":\"null\",\"unit\":\"eV [1 eV = 1.602176462E-19 J]\",\"classID\":\"ArrayDataset\",\"data\":[0.0,100.0,200.0,300.0,400.0,500.0,600.0,700.0,800.0,900.0],\"meta\":{\"_sets\":{\"classID\":\"ODict\",\"data\":{\"a\":{\"valid\":\"null\",\"typecode\":\"java.lang.String\",\"classID\":\"StringParameter\",\"value\":\"value1\"},\"usefor\":{\"valid\":\"null\",\"typecode\":\"java.lang.String\",\"classID\":\"StringParameter\",\"value\":\"your mom\"}}},\"classID\":\"MetaData\",\"listeners\":[]},\"description\":\"a description\"}}},\"classID\":\"Product\",\"listeners\":[],\"meta\":{\"_sets\":{\"classID\":\"ODict\",\"data\":{\"modelName\":{\"valid\":\"null\",\"typecode\":\"java.lang.String\",\"classID\":\"StringParameter\",\"description\":\"Model name attached to this product\",\"value\":\"Unknown\"},\"creator\":{\"valid\":\"null\",\"typecode\":\"java.lang.String\",\"classID\":\"StringParameter\",\"description\":\"Generator of this product\",\"value\":\"Your daddy Yuxin\"},\"endDate\":{\"valid\":\"null\",\"typecode\":\"herschel.share.fltdyn.time.FineTime\",\"classID\":\"StringParameter\",\"description\":\"End date of this product\",\"value\":\"DATE\"},\"description\":{\"valid\":\"null\",\"typecode\":\"java.lang.String\",\"classID\":\"StringParameter\",\"description\":\"Name of this product\",\"value\":\"Results of Test session\"},\"instrument\":{\"valid\":\"null\",\"typecode\":\"java.lang.String\",\"classID\":\"StringParameter\",\"description\":\"Instrument attached to this product\",\"value\":\"Unknown\"},\"type\":{\"valid\":\"null\",\"typecode\":\"java.lang.String\",\"classID\":\"StringParameter\",\"description\":\"Product Type Identification\",\"value\":\"Unknown\"},\"creationDate\":{\"valid\":\"null\",\"typecode\":\"herschel.share.fltdyn.time.FineTime\",\"classID\":\"StringParameter\",\"description\":\"Creation date of this product\",\"value\":\"DATE\"},\"formatVersion\":{\"valid\":\"null\",\"typecode\":\"java.lang.String\",\"classID\":\"StringParameter\",\"description\":\"Version of product format\",\"value\":\"1.0\"},\"startDate\":{\"valid\":\"null\",\"typecode\":\"herschel.share.fltdyn.time.FineTime\",\"classID\":\"StringParameter\",\"description\":\"Start date of this product\",\"value\":\"DATE\"}}},\"classID\":\"MetaData\",\"listeners\":[]},\"history\":{\"_sets\":{\"classID\":\"ODict\",\"data\":{}},\"classID\":\"History\",\"PARAM_HISTORY\":\"\",\"meta\":{\"_sets\":{\"classID\":\"ODict\",\"data\":{}},\"classID\":\"MetaData\",\"listeners\":[]},\"HIST_SCRIPT\":\"\",\"TASK_HISTORY\":\"\",\"description\":\"UNKNOWN\"}}'\n",
    "# print(len(data))\n",
    "x = deserializeClassID(data)\n",
    "# print(x)"
   ]
  },
  {
   "cell_type": "code",
   "execution_count": 3,
   "metadata": {
    "scrolled": false
   },
   "outputs": [
    {
     "name": "stdout",
     "output_type": "stream",
     "text": [
      "urn:http://192.168.1.11:5000/yuxin_test1:fdi.dataset.product.Product:0\n",
      "READ HK FROM REMOTE===>poolurl: http://192.168.1.11:5000/yuxin_test1\n",
      "GET REQUEST API: http://192.168.1.11:5000/v0.6/yuxin_test1/hk/classes\n",
      "GET REQUEST API: http://192.168.1.11:5000/v0.6/yuxin_test1/hk/tags\n",
      "GET REQUEST API: http://192.168.1.11:5000/v0.6/yuxin_test1/hk/urns\n",
      "POST API: http://192.168.1.11:5000/v0.6/yuxin_test1/fdi.dataset.product.Product/0\n"
     ]
    },
    {
     "data": {
      "text/plain": [
       "ProductRef{ ProductURN=urn:http://192.168.1.11:5000/yuxin_test1:fdi.dataset.product.Product:0, meta=MetaData{[description = Parameter{ in store <string>, \"Description of this product\"}, type = Parameter{ Product <string>, \"Product Type identification. Fully qualified Python class name or CARD.\"}, creator = Parameter{ UNKOWN <string>, \"Generator of this product. Example name of institute, organization, person, software, special algorithm etc.\"}, creationDate = Parameter{ 2017-01-01T00:00:00.000000 TAI(0) <finetime>, \"Creation date of this product\"}, rootCause = Parameter{ UNKOWN <string>, \"Reason of this run of pipeline.\"}, schema = Parameter{ 0.3 <string>, \"Version of product schema\"}, startDate = Parameter{ 2017-01-01T00:00:00.000000 TAI(0) <finetime>, \"Nominal start time  of this product.\"}, endDate = Parameter{ 2017-01-01T00:00:00.000000 TAI(0) <finetime>, \"Nominal end time  of this product.\"}, instrument = Parameter{ UNKOWN <string>, \"Instrument that generated data of this product\"}, modelName = Parameter{ UNKOWN <string>, \"Model name of the instrument of this product\"}, mission = Parameter{ _AGS <string>, \"Name of the mission.\"}, ], listeners = []}}"
      ]
     },
     "execution_count": 3,
     "metadata": {},
     "output_type": "execute_result"
    }
   ],
   "source": [
    "### a pool for demonstration will be create here\n",
    "### TEST FOR HTTPCLIENTPOOL\n",
    "demopoolpath = '/yuxin_test1'\n",
    "demopool = 'http://192.168.1.11:5000' + demopoolpath\n",
    "# clean possible data left from previous runs\n",
    "# os.system('rm -rf ' + demopoolpath)\n",
    "PoolManager.getPool(DEFAULT_MEM_POOL).removeAll()\n",
    "PoolManager.removeAll()\n",
    "urn = 'urn:' + demopool + ':fdi.dataset.product.Product:0'\n",
    "print(urn)\n",
    "pstore = ProductStorage(pool=demopool)\n",
    "# pstore.getPool('http://192.168.1.11:5000/yuxin_test/fdi').loadProduct(urn)\n",
    "pstore.save(x1)\n",
    "# pstore.getPools()"
   ]
  },
  {
   "cell_type": "code",
   "execution_count": 17,
   "metadata": {},
   "outputs": [
    {
     "name": "stdout",
     "output_type": "stream",
     "text": [
      "ProductRef{ ProductURN=urn:file:///demopool_teasyu:fdi.dataset.product.Product:0, meta=MetaData{[description = Parameter{ in store <string>, \"Description of this product\"}, type = Parameter{ Product <string>, \"Product Type identification. Fully qualified Python class name or CARD.\"}, creator = Parameter{ UNKOWN <string>, \"Generator of this product. Example name of institute, organization, person, software, special algorithm etc.\"}, creationDate = Parameter{ 2017-01-01T00:00:00.000000 TAI(0) <finetime>, \"Creation date of this product\"}, rootCause = Parameter{ UNKOWN <string>, \"Reason of this run of pipeline.\"}, schema = Parameter{ 0.3 <string>, \"Version of product schema\"}, startDate = Parameter{ 2017-01-01T00:00:00.000000 TAI(0) <finetime>, \"Nominal start time  of this product.\"}, endDate = Parameter{ 2017-01-01T00:00:00.000000 TAI(0) <finetime>, \"Nominal end time  of this product.\"}, instrument = Parameter{ UNKOWN <string>, \"Instrument that generated data of this product\"}, modelName = Parameter{ UNKOWN <string>, \"Model name of the instrument of this product\"}, mission = Parameter{ _AGS <string>, \"Name of the mission.\"}, ], listeners = []}}\n",
      "['file:///demopool_teasyu']\n",
      "{meta = \"MetaData{[description = Parameter{ in store <string>, \"Description of this product\"}, type = Parameter{ Product <string>, \"Product Type identification. Fully qualified Python class name or CARD.\"}, creator = Parameter{ UNKOWN <string>, \"Generator of this product. Example name of institute, organization, person, software, special algorithm etc.\"}, creationDate = Parameter{ 2017-01-01T00:00:00.000000 TAI(0) <finetime>, \"Creation date of this product\"}, rootCause = Parameter{ UNKOWN <string>, \"Reason of this run of pipeline.\"}, schema = Parameter{ 0.3 <string>, \"Version of product schema\"}, startDate = Parameter{ 2017-01-01T00:00:00.000000 TAI(0) <finetime>, \"Nominal start time  of this product.\"}, endDate = Parameter{ 2017-01-01T00:00:00.000000 TAI(0) <finetime>, \"Nominal end time  of this product.\"}, instrument = Parameter{ UNKOWN <string>, \"Instrument that generated data of this product\"}, modelName = Parameter{ UNKOWN <string>, \"Model name of the instrument of this product\"}, mission = Parameter{ _AGS <string>, \"Name of the mission.\"}, ], listeners = []}\", _sets = ['Spectrum'], history = {meta = \"MetaData{[], listeners = []}\", _sets = []}}\n"
     ]
    }
   ],
   "source": [
    "# a pool for demonstration will be create here\n",
    "#demopoolpath = '/tmp/demopool_' + getpass.getuser()\n",
    "demopoolpath = '/demopool_' + getpass.getuser()\n",
    "demopool = 'file://' + demopoolpath\n",
    "# demopool = 'http://127.0.0.1:5000' + demopoolpath\n",
    "# clean possible data left from previous runs\n",
    "# os.system('rm -rf ' + demopoolpath)\n",
    "PoolManager.getPool(DEFAULT_MEM_POOL).removeAll()\n",
    "PoolManager.removeAll()\n",
    "\n",
    "# create a prooduct and save it to a pool\n",
    "x1 = Product(description='in store')\n",
    "# add a tabledataset\n",
    "s1 = [('energy', [1, 4.4, 5.6], 'eV'), ('freq', [0, 43.2, 2E3], 'Hz')]\n",
    "x1[\"Spectrum\"] = TableDataset(data=s1)\n",
    "# create a product store\n",
    "pstore = ProductStorage(pool=demopool)\n",
    "print(pstore.save(x1,tag='ABC'))\n",
    "print(pstore.getPools())\n",
    "print(pstore.getPool('file:///demopool_teasyu').schematicLoadProduct('fdi.dataset.product.Product', '0'))\n",
    "q = MetaQuery(Product, 'm[\"description\"] == \"in store\"')\n",
    "res = pstore.select(q)\n",
    "\n",
    "# pstore.save(x1)"
   ]
  },
  {
   "cell_type": "code",
   "execution_count": 20,
   "metadata": {},
   "outputs": [
    {
     "name": "stdout",
     "output_type": "stream",
     "text": [
      "['file:///demopool_teasyu', 'file:///pool_teasyu']\n"
     ]
    },
    {
     "data": {
      "text/plain": [
       "['file:///demopool_teasyu']"
      ]
     },
     "execution_count": 20,
     "metadata": {},
     "output_type": "execute_result"
    }
   ],
   "source": [
    "# urn = 'urn:' + demopool + ':fdi.dataset.product.Product:0'\n",
    "# pstore.load(urn)\n",
    "#pstore.register('file:///pool_teasyu')\n",
    "print(pstore.getPools())\n",
    "del pstore._pools['file:///pool_teasyu']\n",
    "pstore.getPools()"
   ]
  },
  {
   "cell_type": "code",
   "execution_count": 1,
   "metadata": {},
   "outputs": [
    {
     "data": {
      "text/plain": [
       "'http://192.168.1.11:5000/v0.6/tmp/a/b/hk/classes'"
      ]
     },
     "execution_count": 1,
     "metadata": {},
     "output_type": "execute_result"
    }
   ],
   "source": [
    "from fdi.pns.fdi_requests import *\n",
    "#urn2fdiurl(\"urn:http://192.168.1.11:5000/tmp/a/b:fdi.dataset.product.Product:0\", contents='product', method='POST')\n",
    "# urn2fdiurl(\"http://192.168.1.11:5000/tmp/a/b\", contents='housekeeping')\n",
    "urn2fdiurl(urn=\"http://192.168.1.11:5000/tmp/a/b\", contents='classes')"
   ]
  },
  {
   "cell_type": "code",
   "execution_count": 8,
   "metadata": {
    "collapsed": true
   },
   "outputs": [],
   "source": [
    "pstore.getPools()\n",
    "pstore.register('file:///tmp/demopool_teasyu')"
   ]
  },
  {
   "cell_type": "code",
   "execution_count": 15,
   "metadata": {},
   "outputs": [
    {
     "name": "stdout",
     "output_type": "stream",
     "text": [
      "urn::///tmp/yuxin_test:fdi.dataset.product.Product:1\n"
     ]
    }
   ],
   "source": [
    "# get the urn string\n",
    "urn = prodref.urn\n",
    "# urn:file:///tmp/demopool_mh:fdi.dataset.product.Product:0"
   ]
  },
  {
   "cell_type": "code",
   "execution_count": 73,
   "metadata": {},
   "outputs": [
    {
     "name": "stdout",
     "output_type": "stream",
     "text": [
      "{\"result\": \"urn:yuxin_test1/fdi:fdi.dataset.product.Product:4\", \"msg\": \"save to file:///data/yuxin_test1/fdi with successfully.\", \"timestamp\": 1593680256.3668618}\n"
     ]
    }
   ],
   "source": [
    "import requests\n",
    "from requests.auth import HTTPBasicAuth\n",
    "#x = requests.get('http://localhost:5000/v0.6/httppool', auth=HTTPBasicAuth('gsegment', '1234567'))\n",
    "#print(x.text)\n",
    "with open('/tmp/yuxin_test/fdi.dataset.product.Product_1', 'rb') as fp:\n",
    "    content = fp.read()\n",
    "x = requests.post('http://localhost:5000/v0.6/httppool/yuxin_test1', auth=HTTPBasicAuth('gsegment', '123456'), headers=headers, data=content)\n",
    "print(x.text)"
   ]
  },
  {
   "cell_type": "code",
   "execution_count": 58,
   "metadata": {},
   "outputs": [
    {
     "data": {
      "text/plain": [
       "'urn:file:///tmp/yuxin_test/fdi.dataset.product.Product:fdi.dataset.product.Product:0'"
      ]
     },
     "execution_count": 58,
     "metadata": {},
     "output_type": "execute_result"
    }
   ],
   "source": [
    "urn = 'urn:file:///tmp/yuxin_test/fdi.dataset.product.Product:fdi.dataset.product.Product:0'\n",
    "client = urn.replace('file://' + '/tmp/', '')\n",
    "client_fields = client.split(':')\n",
    "urn = client_fields[0] + ':' + 'file://' + '/tmp/' + client_fields[1] + ':'+ client_fields[2]+ ':' + client_fields[3]\n",
    "urn"
   ]
  },
  {
   "cell_type": "code",
   "execution_count": 8,
   "metadata": {
    "scrolled": true
   },
   "outputs": [
    {
     "ename": "NameError",
     "evalue": "name 'requests' is not defined",
     "output_type": "error",
     "traceback": [
      "\u001b[0;31m-------------------------------------------------------------------------\u001b[0m",
      "\u001b[0;31mNameError\u001b[0m                               Traceback (most recent call last)",
      "\u001b[0;32m<ipython-input-8-55a94de06985>\u001b[0m in \u001b[0;36m<module>\u001b[0;34m()\u001b[0m\n\u001b[1;32m      5\u001b[0m \u001b[0mdata\u001b[0m \u001b[0;34m=\u001b[0m \u001b[0;34m{\u001b[0m\u001b[0;34m\"type\"\u001b[0m\u001b[0;34m:\u001b[0m \u001b[0;34m\"MetaQuery\"\u001b[0m\u001b[0;34m,\u001b[0m \u001b[0;34m\"where\"\u001b[0m\u001b[0;34m:\u001b[0m \u001b[0mq\u001b[0m\u001b[0;34m.\u001b[0m\u001b[0mgetWhere\u001b[0m\u001b[0;34m(\u001b[0m\u001b[0;34m)\u001b[0m\u001b[0;34m,\u001b[0m \u001b[0;34m\"allVersions\"\u001b[0m\u001b[0;34m:\u001b[0m \u001b[0mq\u001b[0m\u001b[0;34m.\u001b[0m\u001b[0mretrieveAllVersions\u001b[0m\u001b[0;34m(\u001b[0m\u001b[0;34m)\u001b[0m\u001b[0;34m,\u001b[0m \u001b[0;34m\"variable\"\u001b[0m\u001b[0;34m:\u001b[0m \u001b[0mq\u001b[0m\u001b[0;34m.\u001b[0m\u001b[0mgetVariable\u001b[0m\u001b[0;34m(\u001b[0m\u001b[0;34m)\u001b[0m\u001b[0;34m}\u001b[0m\u001b[0;34m\u001b[0m\u001b[0m\n\u001b[1;32m      6\u001b[0m \u001b[0mquery\u001b[0m \u001b[0;34m=\u001b[0m \u001b[0mjson\u001b[0m\u001b[0;34m.\u001b[0m\u001b[0mdumps\u001b[0m\u001b[0;34m(\u001b[0m\u001b[0mdata\u001b[0m\u001b[0;34m)\u001b[0m\u001b[0;34m\u001b[0m\u001b[0m\n\u001b[0;32m----> 7\u001b[0;31m \u001b[0mx\u001b[0m \u001b[0;34m=\u001b[0m \u001b[0mrequests\u001b[0m\u001b[0;34m.\u001b[0m\u001b[0mpost\u001b[0m\u001b[0;34m(\u001b[0m\u001b[0;34m'http://localhost:5000/v0.6/httppool/query'\u001b[0m\u001b[0;34m,\u001b[0m \u001b[0mauth\u001b[0m\u001b[0;34m=\u001b[0m\u001b[0mHTTPBasicAuth\u001b[0m\u001b[0;34m(\u001b[0m\u001b[0;34m'gsegment'\u001b[0m\u001b[0;34m,\u001b[0m \u001b[0;34m'123456'\u001b[0m\u001b[0;34m)\u001b[0m\u001b[0;34m,\u001b[0m \u001b[0mdata\u001b[0m\u001b[0;34m=\u001b[0m\u001b[0mquery\u001b[0m\u001b[0;34m)\u001b[0m\u001b[0;34m\u001b[0m\u001b[0m\n\u001b[0m",
      "\u001b[0;31mNameError\u001b[0m: name 'requests' is not defined"
     ]
    }
   ],
   "source": [
    "# x = requests.get('http://localhost:5000/v0.6/httppool/yuxin_test1', auth=HTTPBasicAuth('gsegment', '123456'))\n",
    "# x = requests.delete('http://localhost:5000/v0.6/httppool/yuxin_test1', auth=HTTPBasicAuth('gsegment', '123456'))\n",
    "q = MetaQuery(Product, 'm[\"creator\"] == \"Yuxin\"')\n",
    "data = {\"type\": \"MetaQuery\", \"where\": q.getWhere(), \"allVersions\": q.retrieveAllVersions(), \"variable\": q.getVariable()}\n",
    "query = json.dumps(data)\n",
    "x = requests.post('http://localhost:5000/v0.6/httppool/query', auth=HTTPBasicAuth('gsegment', '123456'), data=query)"
   ]
  },
  {
   "cell_type": "code",
   "execution_count": 129,
   "metadata": {},
   "outputs": [
    {
     "data": {
      "text/plain": [
       "str"
      ]
     },
     "execution_count": 129,
     "metadata": {},
     "output_type": "execute_result"
    }
   ],
   "source": [
    "# b= json.dumps(data)\n",
    "# a = deserializeClassID(b)\n",
    "type(q.getVariable())"
   ]
  },
  {
   "cell_type": "code",
   "execution_count": 6,
   "metadata": {},
   "outputs": [
    {
     "name": "stdout",
     "output_type": "stream",
     "text": [
      "urn:file:///tmp/pool_teasyu:fdi.dataset.product.Product:0\n",
      "urn:file:///tmp/pool_teasyu:fdi.dataset.product.Product:1\n",
      "urn:file:///tmp/pool_teasyu:fdi.dataset.product.Product:2\n",
      "urn:file:///tmp/pool_teasyu:fdi.pal.context.MapContext:0\n",
      "urn:file:///tmp/newpool_teasyu:fdi.pal.context.MapContext:0\n",
      "urn:file:///tmp/newpool_teasyu:fdi.pal.context.MapContext:1\n",
      "urn:file:///tmp/newpool_teasyu:fdi.pal.context.MapContext:2\n"
     ]
    }
   ],
   "source": [
    "# clean possible data left from previous runs\n",
    "defaultpoolpath = '/tmp/pool_' + getpass.getuser()\n",
    "newpoolpath = '/tmp/newpool_' + getpass.getuser()\n",
    "os.system('rm -rf ' + defaultpoolpath)\n",
    "os.system('rm -rf ' + newpoolpath)\n",
    "PoolManager.getPool(DEFAULT_MEM_POOL).removeAll()\n",
    "PoolManager.removeAll()\n",
    "# make a productStorage\n",
    "defaultpool = 'file://'+defaultpoolpath\n",
    "pstore = ProductStorage(defaultpool)\n",
    "# make another\n",
    "newpoolname = 'file://' + newpoolpath\n",
    "pstore2 = ProductStorage(newpoolname)\n",
    "# add some products to both storages\n",
    "n = 7\n",
    "for i in range(n):\n",
    "    a0, a1, a2 = 'desc %d' % i, 'fatman %d' % (i*4), 5000+i\n",
    "    if i < 3:\n",
    "        x = Product(description=a0, instrument=a1)\n",
    "        x.meta['extra'] = Parameter(value=a2)\n",
    "    elif i < 5:\n",
    "        x = Context(description=a0, instrument=a1)\n",
    "        x.meta['extra'] = Parameter(value=a2)\n",
    "        x = MapContext(description=a0, instrument=a1)\n",
    "        x.meta['extra'] = Parameter(value=a2)\n",
    "        x.meta['time'] = Parameter(value=FineTime1(a2))\n",
    "    if i < 4:\n",
    "        r = pstore.save(x)\n",
    "    else:\n",
    "        r = pstore2.save(x)\n",
    "    print(r.urn)\n",
    "# Two pools, 7 products\n",
    "pstore.register(newpoolname)"
   ]
  },
  {
   "cell_type": "code",
   "execution_count": 185,
   "metadata": {},
   "outputs": [
    {
     "name": "stdout",
     "output_type": "stream",
     "text": [
      "['file:///tmp/pool_teasyu', 'file:///tmp/newpool_teasyu']\n",
      "OD{'file:///tmp/pool_teasyu':LocalPool { pool= file:///tmp/pool_teasyu }, 'file:///tmp/newpool_teasyu':LocalPool { pool= file:///tmp/newpool_teasyu }}\n"
     ]
    },
    {
     "data": {
      "text/plain": [
       "[ProductRef{ ProductURN=urn:file:///tmp/newpool_teasyu:fdi.pal.context.MapContext:0, meta=MetaData{[description = Parameter{ desc 4 <string>, \"Description of this product\"}, type = Parameter{ Product <string>, \"Product Type identification. Fully qualified Python class name or CARD.\"}, creator = Parameter{ UNKOWN <string>, \"Generator of this product. Example name of institute, organization, person, software, special algorithm etc.\"}, creationDate = Parameter{ 2017-01-01T00:00:00.000000 TAI(0) <finetime>, \"Creation date of this product\"}, rootCause = Parameter{ UNKOWN <string>, \"Reason of this run of pipeline.\"}, schema = Parameter{ 0.3 <string>, \"Version of product schema\"}, startDate = Parameter{ 2017-01-01T00:00:00.000000 TAI(0) <finetime>, \"Nominal start time  of this product.\"}, endDate = Parameter{ 2017-01-01T00:00:00.000000 TAI(0) <finetime>, \"Nominal end time  of this product.\"}, instrument = Parameter{ fatman 16 <string>, \"Instrument that generated data of this product\"}, modelName = Parameter{ UNKOWN <string>, \"Model name of the instrument of this product\"}, mission = Parameter{ _AGS <string>, \"Name of the mission.\"}, extra = Parameter{ 5004 <integer>, \"UNKNOWN\"}, time = Parameter{ 2017-01-01T00:00:05.004000 TAI(5004) <finetime>, \"UNKNOWN\"}, ], listeners = []}},\n",
       " ProductRef{ ProductURN=urn:file:///tmp/newpool_teasyu:fdi.pal.context.MapContext:1, meta=MetaData{[description = Parameter{ desc 4 <string>, \"Description of this product\"}, type = Parameter{ Product <string>, \"Product Type identification. Fully qualified Python class name or CARD.\"}, creator = Parameter{ UNKOWN <string>, \"Generator of this product. Example name of institute, organization, person, software, special algorithm etc.\"}, creationDate = Parameter{ 2017-01-01T00:00:00.000000 TAI(0) <finetime>, \"Creation date of this product\"}, rootCause = Parameter{ UNKOWN <string>, \"Reason of this run of pipeline.\"}, schema = Parameter{ 0.3 <string>, \"Version of product schema\"}, startDate = Parameter{ 2017-01-01T00:00:00.000000 TAI(0) <finetime>, \"Nominal start time  of this product.\"}, endDate = Parameter{ 2017-01-01T00:00:00.000000 TAI(0) <finetime>, \"Nominal end time  of this product.\"}, instrument = Parameter{ fatman 16 <string>, \"Instrument that generated data of this product\"}, modelName = Parameter{ UNKOWN <string>, \"Model name of the instrument of this product\"}, mission = Parameter{ _AGS <string>, \"Name of the mission.\"}, extra = Parameter{ 5004 <integer>, \"UNKNOWN\"}, time = Parameter{ 2017-01-01T00:00:05.004000 TAI(5004) <finetime>, \"UNKNOWN\"}, ], listeners = []}},\n",
       " ProductRef{ ProductURN=urn:file:///tmp/newpool_teasyu:fdi.pal.context.MapContext:2, meta=MetaData{[description = Parameter{ desc 4 <string>, \"Description of this product\"}, type = Parameter{ Product <string>, \"Product Type identification. Fully qualified Python class name or CARD.\"}, creator = Parameter{ UNKOWN <string>, \"Generator of this product. Example name of institute, organization, person, software, special algorithm etc.\"}, creationDate = Parameter{ 2017-01-01T00:00:00.000000 TAI(0) <finetime>, \"Creation date of this product\"}, rootCause = Parameter{ UNKOWN <string>, \"Reason of this run of pipeline.\"}, schema = Parameter{ 0.3 <string>, \"Version of product schema\"}, startDate = Parameter{ 2017-01-01T00:00:00.000000 TAI(0) <finetime>, \"Nominal start time  of this product.\"}, endDate = Parameter{ 2017-01-01T00:00:00.000000 TAI(0) <finetime>, \"Nominal end time  of this product.\"}, instrument = Parameter{ fatman 16 <string>, \"Instrument that generated data of this product\"}, modelName = Parameter{ UNKOWN <string>, \"Model name of the instrument of this product\"}, mission = Parameter{ _AGS <string>, \"Name of the mission.\"}, extra = Parameter{ 5004 <integer>, \"UNKNOWN\"}, time = Parameter{ 2017-01-01T00:00:05.004000 TAI(5004) <finetime>, \"UNKNOWN\"}, ], listeners = []}}]"
      ]
     },
     "execution_count": 185,
     "metadata": {},
     "output_type": "execute_result"
    }
   ],
   "source": [
    "# register the newpool above to the  1st productStorage\n",
    "# pstore.register('file:///data/yuxin_test1/fdi/')\n",
    "# pstore.wipePool('file:///data/yuxin_test1/fdi/')\n",
    "print(pstore.getPools())   # == 2\n",
    "print(pstore._pools)\n",
    "# make a query on product metadata, which is the variable 'm'\n",
    "# in the query expression, i.e. ``m = product.meta; ...``\n",
    "# But '5000 < m[\"extra\"]' does not work. see tests/test.py.\n",
    "q = MetaQuery(Product, 'm[\"extra\"] == 5004')\n",
    "# search all pools registered on pstore\n",
    "res = pstore.select(q)\n",
    "# [2,3,4,5]\n",
    "len(res)   # == 4\n",
    "# [r.product.description for r in res]\n",
    "res"
   ]
  },
  {
   "cell_type": "code",
   "execution_count": 5,
   "metadata": {},
   "outputs": [
    {
     "name": "stderr",
     "output_type": "stream",
     "text": [
      "unable to save to the writable pool.\n"
     ]
    },
    {
     "name": "stdout",
     "output_type": "stream",
     "text": [
      "HTTP POOL URN: abc/tmp/demopool_teasyu\n"
     ]
    },
    {
     "ename": "AttributeError",
     "evalue": "'LocalPool' object has no attribute 'saveProduct2HttpPool'",
     "output_type": "error",
     "traceback": [
      "\u001b[0;31m-------------------------------------------------------------------------\u001b[0m",
      "\u001b[0;31mAttributeError\u001b[0m                          Traceback (most recent call last)",
      "\u001b[0;32m<ipython-input-5-fb6cafc22321>\u001b[0m in \u001b[0;36m<module>\u001b[0;34m()\u001b[0m\n\u001b[0;32m----> 1\u001b[0;31m \u001b[0mpstore\u001b[0m\u001b[0;34m.\u001b[0m\u001b[0msave2httppool\u001b[0m\u001b[0;34m(\u001b[0m\u001b[0mproduct\u001b[0m\u001b[0;34m=\u001b[0m\u001b[0mx\u001b[0m\u001b[0;34m,\u001b[0m \u001b[0mhost\u001b[0m\u001b[0;34m=\u001b[0m\u001b[0;34m'abc'\u001b[0m\u001b[0;34m)\u001b[0m\u001b[0;34m\u001b[0m\u001b[0m\n\u001b[0m\u001b[1;32m      2\u001b[0m \u001b[0;31m# pstore.getPool('file:///data/yuxin_test')\u001b[0m\u001b[0;34m\u001b[0m\u001b[0;34m\u001b[0m\u001b[0m\n\u001b[1;32m      3\u001b[0m \u001b[0;31m# dir(ProductStorage)\u001b[0m\u001b[0;34m\u001b[0m\u001b[0;34m\u001b[0m\u001b[0m\n",
      "\u001b[0;32m~/Documents/svom/fdi/fdi/pal/productstorage.py\u001b[0m in \u001b[0;36msave2httppool\u001b[0;34m(self, product, tag, poolurn, geturnobjs, host)\u001b[0m\n\u001b[1;32m    109\u001b[0m         \u001b[0;32mexcept\u001b[0m \u001b[0mException\u001b[0m \u001b[0;32mas\u001b[0m \u001b[0me\u001b[0m\u001b[0;34m:\u001b[0m\u001b[0;34m\u001b[0m\u001b[0m\n\u001b[1;32m    110\u001b[0m             \u001b[0mlogger\u001b[0m\u001b[0;34m.\u001b[0m\u001b[0merror\u001b[0m\u001b[0;34m(\u001b[0m\u001b[0;34m'unable to save to the writable pool.'\u001b[0m\u001b[0;34m)\u001b[0m\u001b[0;34m\u001b[0m\u001b[0m\n\u001b[0;32m--> 111\u001b[0;31m             \u001b[0;32mraise\u001b[0m \u001b[0me\u001b[0m\u001b[0;34m\u001b[0m\u001b[0m\n\u001b[0m\u001b[1;32m    112\u001b[0m         \u001b[0;32mif\u001b[0m \u001b[0;32mnot\u001b[0m \u001b[0mgeturnobjs\u001b[0m\u001b[0;34m:\u001b[0m\u001b[0;34m\u001b[0m\u001b[0m\n\u001b[1;32m    113\u001b[0m             \u001b[0;32mif\u001b[0m \u001b[0missubclass\u001b[0m\u001b[0;34m(\u001b[0m\u001b[0mret\u001b[0m\u001b[0;34m.\u001b[0m\u001b[0m__class__\u001b[0m\u001b[0;34m,\u001b[0m \u001b[0mlist\u001b[0m\u001b[0;34m)\u001b[0m\u001b[0;34m:\u001b[0m\u001b[0;34m\u001b[0m\u001b[0m\n",
      "\u001b[0;32m~/Documents/svom/fdi/fdi/pal/productstorage.py\u001b[0m in \u001b[0;36msave2httppool\u001b[0;34m(self, product, tag, poolurn, geturnobjs, host)\u001b[0m\n\u001b[1;32m    105\u001b[0m \u001b[0;34m\u001b[0m\u001b[0m\n\u001b[1;32m    106\u001b[0m         \u001b[0;32mtry\u001b[0m\u001b[0;34m:\u001b[0m\u001b[0;34m\u001b[0m\u001b[0m\n\u001b[0;32m--> 107\u001b[0;31m             ret = self._pools[poolurn].saveProduct2HttpPool(\n\u001b[0m\u001b[1;32m    108\u001b[0m                 product, tag=tag, geturnobjs=geturnobjs, host=httppoolurn)\n\u001b[1;32m    109\u001b[0m         \u001b[0;32mexcept\u001b[0m \u001b[0mException\u001b[0m \u001b[0;32mas\u001b[0m \u001b[0me\u001b[0m\u001b[0;34m:\u001b[0m\u001b[0;34m\u001b[0m\u001b[0m\n",
      "\u001b[0;31mAttributeError\u001b[0m: 'LocalPool' object has no attribute 'saveProduct2HttpPool'"
     ]
    }
   ],
   "source": [
    "pstore.save2httppool(product=x, host='abc')\n",
    "# pstore.getPool('file:///data/yuxin_test')\n",
    "# dir(ProductStorage)"
   ]
  },
  {
   "cell_type": "code",
   "execution_count": 28,
   "metadata": {},
   "outputs": [
    {
     "data": {
      "text/plain": [
       "'file:///tmp/demopool_teasyu'"
      ]
     },
     "execution_count": 28,
     "metadata": {},
     "output_type": "execute_result"
    }
   ],
   "source": [
    "pstore.getPools()\n",
    "pstore.getPool('file:///tmp/demopool_teasyu')._poolurn"
   ]
  },
  {
   "cell_type": "code",
   "execution_count": 14,
   "metadata": {},
   "outputs": [
    {
     "data": {
      "text/plain": [
       "ParseResult(scheme='file', netloc='', path='/demopool', params='', query='', fragment='')"
      ]
     },
     "execution_count": 14,
     "metadata": {},
     "output_type": "execute_result"
    }
   ],
   "source": [
    "from urllib.parse import urlparse\n",
    "x = urlparse('file:///demopool')\n",
    "x"
   ]
  },
  {
   "cell_type": "code",
   "execution_count": 21,
   "metadata": {},
   "outputs": [
    {
     "data": {
      "text/plain": [
       "tuple"
      ]
     },
     "execution_count": 21,
     "metadata": {},
     "output_type": "execute_result"
    }
   ],
   "source": [
    "auth_user = 'gsegment'\n",
    "auth_pass = '123456'\n",
    "baseurl = 'http://192.168.1.11:5000/v0.6/httppool'\n",
    "\n",
    "# HTTPPOOL >  GET\n",
    "def httppool_get_pstore():\n",
    "    x = requests.get(baseurl, auth=HTTPBasicAuth(auth_user, auth_pass))\n",
    "    print(x.text)\n",
    "#httppool_get_pstore()\n",
    "\n",
    "# HTTPPOOL/POOLID > GET\n",
    "def httppool_get_pool(poolid, resourcename=None, indexstr=None):\n",
    "    if resourcename and indexstr:\n",
    "        x = requests.get(baseurl +'/'+ poolid + '?'+ 'resourcename=' +resourcename + '&' + 'indexstr=' + indexstr, auth=HTTPBasicAuth(auth_user, auth_pass))\n",
    "    else:\n",
    "        x = requests.get('http://localhost:5000/v0.6/httppool/'+ poolid, auth=HTTPBasicAuth(auth_user, auth_pass))\n",
    "    print(x.text)\n",
    "poolid = 'yuxin_test'\n",
    "#httppool_get_pool(poolid=poolid)\n",
    "#httppool_get_pool(poolid=poolid, resourcename='fdi.dataset.product.Product', indexstr='2')\n",
    "\n",
    "# HTTPPOOL/POOLID > DELETE\n",
    "def httppool_delete_pool(poolid):\n",
    "    x = requests.delete('http://localhost:5000/v0.6/httppool/'+ poolid, auth=HTTPBasicAuth(auth_user, auth_pass))\n",
    "    print(x.text)\n",
    "    \n",
    "poolid = 'yuxin_test'\n",
    "# httppool_delete_pool(poolid)\n",
    "\n",
    "# HTTPPOOL/POOLID > POST\n",
    "def httppool_post_pool(prod_obj, poolid):\n",
    "    x = requests.post('http://localhost:5000/v0.6/httppool/' + poolid, \\\n",
    "                      auth=HTTPBasicAuth(auth_user, auth_pass), data=prod_obj)\n",
    "    print(x.text)\n",
    "    \n",
    "def test_post():\n",
    "    n = 7\n",
    "    for i in range(n):\n",
    "        a0, a1, a2 = 'desc %d' % i, 'fatman %d' % (i*4), 5000+i\n",
    "        if i < 3:\n",
    "            x = Product(description=a0, instrument=a1)\n",
    "            x.meta['extra'] = Parameter(value=a2)\n",
    "        elif i < 5:\n",
    "            x = Context(description=a0, instrument=a1)\n",
    "            x.meta['extra'] = Parameter(value=a2)\n",
    "            x = MapContext(description=a0, instrument=a1)\n",
    "            x.meta['extra'] = Parameter(value=a2)\n",
    "            x.meta['time'] = Parameter(value=FineTime1(a2))\n",
    "        if i < 4:\n",
    "            obj = serializeClassID(x)\n",
    "            httppool_post_pool(obj, 'yuxin_test')\n",
    "            \n",
    "#test_post()\n",
    "# HTTPPOOL/QUERY POST\n",
    "def query_httppool(q):\n",
    "    data = {\"type\": \"MetaQuery\", \"where\": q.getWhere(), \"allVersions\": q.retrieveAllVersions(), \"variable\": q.getVariable()}\n",
    "    query = json.dumps(data)\n",
    "    x = requests.post('http://localhost:5000/v0.6/httppool/query', \\\n",
    "                      auth=HTTPBasicAuth(auth_user, auth_pass), data=query)\n",
    "    print(x.text)\n",
    "    return x\n",
    "q = MetaQuery(Product, 'm[\"extra\"] > 5001 and m[\"extra\"] <= 5005')\n",
    "#r = query_httppool(q)\n",
    "#len(deserializeClassID(r.text))"
   ]
  },
  {
   "cell_type": "code",
   "execution_count": 2,
   "metadata": {
    "scrolled": true
   },
   "outputs": [
    {
     "name": "stdout",
     "output_type": "stream",
     "text": [
      "locked file....\n",
      "locked file....\n",
      "locked file....\n",
      "locked file....\n",
      "locked file....\n",
      "locked file....\n",
      "locked file....\n",
      "locked file....\n",
      "locked file....\n",
      "locked file....\n"
     ]
    }
   ],
   "source": [
    "import filelock\n",
    "import time\n",
    "    \n",
    "with filelock.FileLock('/tmp/locks/yuxin_test/lock'):\n",
    "    for i in range(0, 10):\n",
    "        print('locked file....')\n",
    "        time.sleep(5)\n",
    "        "
   ]
  },
  {
   "cell_type": "code",
   "execution_count": 2,
   "metadata": {},
   "outputs": [
    {
     "name": "stdout",
     "output_type": "stream",
     "text": [
      "urn:file:///pool_teasyu/a:fdi.dataset.product.Product:0\n",
      "urn:file:///pool_teasyu/a:fdi.dataset.product.Product:1\n",
      "urn:file:///pool_teasyu/a:fdi.dataset.product.Product:2\n",
      "urn:file:///pool_teasyu/a:fdi.pal.context.MapContext:0\n",
      "urn:file:///pool_teasyu/b/c:fdi.pal.context.MapContext:0\n",
      "urn:file:///pool_teasyu/b/c:fdi.pal.context.MapContext:1\n",
      "urn:file:///pool_teasyu/b/c:fdi.pal.context.MapContext:2\n"
     ]
    }
   ],
   "source": [
    "# TEST degree in local pool\n",
    "# if a product is like: /poolid and an other is like : /poolid/a/b\n",
    "\n",
    "# clean possible data left from previous runs\n",
    "defaultpoolpath = '/pool_' + getpass.getuser()+ '/a'\n",
    "newpoolpath = '/pool_' + getpass.getuser() + '/b/c'\n",
    "#os.system('rm -rf ' + defaultpoolpath)\n",
    "#os.system('rm -rf ' + newpoolpath)\n",
    "PoolManager.getPool(DEFAULT_MEM_POOL).removeAll()\n",
    "PoolManager.removeAll()\n",
    "# make a productStorage\n",
    "defaultpool = 'file://'+defaultpoolpath\n",
    "pstore = ProductStorage(defaultpool)\n",
    "# make another\n",
    "newpoolname = 'file://' + newpoolpath\n",
    "pstore2 = ProductStorage(newpoolname)\n",
    "\n",
    "# add some products to both storages\n",
    "n = 7\n",
    "for i in range(n):\n",
    "    a0, a1, a2 = 'desc %d' % i, 'fatman %d' % (i*4), 5000+i\n",
    "    if i < 3:\n",
    "        x = Product(description=a0, instrument=a1)\n",
    "        x.meta['extra'] = Parameter(value=a2)\n",
    "    elif i < 5:\n",
    "        x = Context(description=a0, instrument=a1)\n",
    "        x.meta['extra'] = Parameter(value=a2)\n",
    "        x = MapContext(description=a0, instrument=a1)\n",
    "        x.meta['extra'] = Parameter(value=a2)\n",
    "        x.meta['time'] = Parameter(value=FineTime1(a2))\n",
    "    if i < 4:\n",
    "        r = pstore.save(x)\n",
    "    else:\n",
    "        r = pstore2.save(x)\n",
    "    print(r.urn)\n",
    "# Two pools, 7 products\n",
    "# [P P P C] [C M M]"
   ]
  },
  {
   "cell_type": "code",
   "execution_count": 5,
   "metadata": {},
   "outputs": [
    {
     "name": "stdout",
     "output_type": "stream",
     "text": [
      "2\n",
      "['file:///pool_teasyu/a', 'file:///pool_teasyu/b/c']\n"
     ]
    },
    {
     "data": {
      "text/plain": [
       "{meta = \"MetaData{[description = Parameter{ desc 3 <string>, \"Description of this product\"}, type = Parameter{ Product <string>, \"Product Type identification. Fully qualified Python class name or CARD.\"}, creator = Parameter{ UNKOWN <string>, \"Generator of this product. Example name of institute, organization, person, software, special algorithm etc.\"}, creationDate = Parameter{ 2017-01-01T00:00:00.000000 TAI(0) <finetime>, \"Creation date of this product\"}, rootCause = Parameter{ UNKOWN <string>, \"Reason of this run of pipeline.\"}, schema = Parameter{ 0.3 <string>, \"Version of product schema\"}, startDate = Parameter{ 2017-01-01T00:00:00.000000 TAI(0) <finetime>, \"Nominal start time  of this product.\"}, endDate = Parameter{ 2017-01-01T00:00:00.000000 TAI(0) <finetime>, \"Nominal end time  of this product.\"}, instrument = Parameter{ fatman 12 <string>, \"Instrument that generated data of this product\"}, modelName = Parameter{ UNKOWN <string>, \"Model name of the instrument of this product\"}, mission = Parameter{ _AGS <string>, \"Name of the mission.\"}, extra = Parameter{ 5003 <integer>, \"UNKNOWN\"}, time = Parameter{ 2017-01-01T00:00:05.003000 TAI(5003) <finetime>, \"UNKNOWN\"}, ], listeners = []}\", _sets = ['refs'], history = {meta = \"MetaData{[], listeners = []}\", _sets = []}}"
      ]
     },
     "execution_count": 5,
     "metadata": {},
     "output_type": "execute_result"
    }
   ],
   "source": [
    "# pstore.getPools()\n",
    "# register the new pool above to the  1st productStorage\n",
    "pstore.register(newpoolname)\n",
    "print(len(pstore.getPools()))   # == 2\n",
    "print(pstore.getPools())\n",
    "pstore.getPool('file:///pool_teasyu/a').schematicLoadProduct('fdi.pal.context.MapContext', '0')"
   ]
  },
  {
   "cell_type": "code",
   "execution_count": 10,
   "metadata": {},
   "outputs": [
    {
     "name": "stdout",
     "output_type": "stream",
     "text": [
      "2\n"
     ]
    },
    {
     "data": {
      "text/plain": [
       "['desc 2', 'desc 3']"
      ]
     },
     "execution_count": 10,
     "metadata": {},
     "output_type": "execute_result"
    }
   ],
   "source": [
    "# make a query on product metadata, which is the variable 'm'\n",
    "# in the query expression, i.e. ``m = product.meta; ...``\n",
    "# But '5000 < m[\"extra\"]' does not work. see tests/test.py.\n",
    "q = MetaQuery(Product, 'm[\"extra\"] > 5001 and m[\"extra\"] <= 5005')\n",
    "# search all pools registered on pstore\n",
    "res = pstore.select(q)\n",
    "# [2,3,4,5]\n",
    "print(len(res))   # == 4\n",
    "[r.product.description for r in res]"
   ]
  },
  {
   "cell_type": "code",
   "execution_count": 16,
   "metadata": {},
   "outputs": [
    {
     "name": "stdout",
     "output_type": "stream",
     "text": [
      "['pool_default', 'subclasses/b', 'subclasses/a', 'post_test_pool']\n"
     ]
    }
   ],
   "source": [
    "alldirs=[]\n",
    "path = '/data'\n",
    "def getfiledir(filepath):\n",
    "    paths = filepath.split('/')\n",
    "    dirpath = ''\n",
    "    for i in paths[2:-1]:\n",
    "        dirpath = dirpath + i + '/'\n",
    "    return dirpath[0:-1]\n",
    "def getallpools(path):\n",
    "    allfilelist=os.listdir(path)\n",
    "    for file in allfilelist:\n",
    "        filepath=os.path.join(path,file)\n",
    "        if os.path.isdir(filepath):\n",
    "            getallpools(filepath)\n",
    "        else:\n",
    "            dirpath = getfiledir(filepath)\n",
    "            if dirpath not in alldirs:\n",
    "                alldirs.append(dirpath)\n",
    "    return alldirs\n",
    "\n",
    "print(getallpools(path))"
   ]
  },
  {
   "cell_type": "code",
   "execution_count": null,
   "metadata": {
    "collapsed": true
   },
   "outputs": [],
   "source": []
  }
 ],
 "metadata": {
  "kernelspec": {
   "display_name": "Python 3",
   "language": "python",
   "name": "python3"
  },
  "language_info": {
   "codemirror_mode": {
    "name": "ipython",
    "version": 3
   },
   "file_extension": ".py",
   "mimetype": "text/x-python",
   "name": "python",
   "nbconvert_exporter": "python",
   "pygments_lexer": "ipython3",
   "version": "3.6.3"
  }
 },
 "nbformat": 4,
 "nbformat_minor": 2
}
